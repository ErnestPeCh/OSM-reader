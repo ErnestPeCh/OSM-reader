{
 "cells": [
  {
   "cell_type": "code",
   "execution_count": 1,
   "metadata": {},
   "outputs": [],
   "source": [
    "def separa(nombre_archivo_entrada,nombre_archivo_salida):\n",
    "    with open(\"../osm/\"+nombre_archivo_entrada,\"r\") as file:\n",
    "        file = file.read().splitlines()  #LEEMOS EL ARCHIVO\n",
    "        nf = [i for i in range(len(file)) if file[i].rstrip(\"\\n\")==\"OS:Material,\"]  #SE GENERA UNA LISTA DE LOS ÍNDICES DONDE \n",
    "                                                                          # SE ENCUENTRA LA PALABRA \"OS:Material\". POR LO QUE \n",
    "                                                                          # IDENTIFICA LA LÍNEA DONDE COMIENZA EL OBJETO \n",
    "    \n",
    "        inb = [j+1 for j in range(len(file)) if file[j].rstrip(\"\\n\")==\"\"]  #SE GENERA UNA LISTA DONDE SE ENCUENTRAN LOS\n",
    "                                                                      # ESPACIOS VACÍOS\n",
    "    \n",
    "    # ESTAS LINEAS DE CÓDIGO COMPARAN AMBAS LISTAS ANTES GENERADAS Y ENCUENTRAN LOS ÍNDICES, LOS CUALES QUEDAN GUARDADOS \n",
    "    # EN lista_final, QUE DETERMIAN DONDE TERMINA EL OBJETO. CON LO CUAL YA TENEMOS LA LISTA QUE INDICA DONDE EMPIEZA CADA\n",
    "    # OBJETO DE \"OS:Materiales,\" (la lista nf) Y LA LISTA DONDE TERMINA CADA UNO DE DICHOS OBJETOS (la lista lista_final)\n",
    "    lista = []  \n",
    "    for k in range(len(nf)):\n",
    "        for h in range(len(inb)):\n",
    "            if nf[k] == inb[h]:\n",
    "                lista.append(inb[h+1])\n",
    "    lista_final = []\n",
    "    for x in lista:\n",
    "        lista_final.append(x-1)\n",
    "        \n",
    "    # SE CREA UNA LISTA DE LISTAS DONDE SE ALMACENA LA INFORMACIÓN    \n",
    "    resultados = []\n",
    "    for s in range(len(nf)):\n",
    "        resultado = file[nf[s]:lista_final[s]]\n",
    "        resultados.append(resultado)\n",
    "    \n",
    "    # SE GUARDA EL ARCHIVO\n",
    "    with open(\"../resultados/\"+nombre_archivo_salida,\"w\") as result:\n",
    "        for s in range(len(resultados)):\n",
    "            for r in range(len(resultados[s])):\n",
    "                result.write(resultados[s][r] + \"\\n\")"
   ]
  },
  {
   "cell_type": "code",
   "execution_count": 2,
   "metadata": {},
   "outputs": [],
   "source": [
    "separa(\"materiales.osm\",\"resultado.osm\")"
   ]
  }
 ],
 "metadata": {
  "kernelspec": {
   "display_name": "Python 3",
   "language": "python",
   "name": "python3"
  },
  "language_info": {
   "codemirror_mode": {
    "name": "ipython",
    "version": 3
   },
   "file_extension": ".py",
   "mimetype": "text/x-python",
   "name": "python",
   "nbconvert_exporter": "python",
   "pygments_lexer": "ipython3",
   "version": "3.7.3"
  }
 },
 "nbformat": 4,
 "nbformat_minor": 2
}
